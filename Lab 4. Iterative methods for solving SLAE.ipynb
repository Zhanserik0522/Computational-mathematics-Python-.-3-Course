{
 "cells": [
  {
   "cell_type": "code",
   "execution_count": 29,
   "id": "19aa10c8-4809-4392-98fb-61f14f984330",
   "metadata": {},
   "outputs": [],
   "source": [
    "# Jacobi Method\n",
    "def jacobi_method(A, b, tolerance=1e-4, max_iterations=1000):\n",
    "    n = len(b)\n",
    "    x_old = [0 for _ in range(n)]  # Initial guess, x_0 = 0\n",
    "    x_new = x_old.copy()\n",
    "    \n",
    "    for k in range(max_iterations):\n",
    "        for i in range(n):\n",
    "            sigma = sum(A[i][j] * x_old[j] for j in range(n) if i != j)\n",
    "            x_new[i] = (b[i] - sigma) / A[i][i]\n",
    "        \n",
    "        # Check convergence\n",
    "        if all(abs(x_new[i] - x_old[i]) < tolerance for i in range(n)):\n",
    "            return x_new, k + 1  # Return the solution and number of iterations\n",
    "        \n",
    "        x_old = x_new.copy()\n",
    "    \n",
    "    return x_new, max_iterations  "
   ]
  },
  {
   "cell_type": "code",
   "execution_count": 30,
   "id": "7b6743c4-7d33-4cd2-9c22-0eaf036c362d",
   "metadata": {},
   "outputs": [],
   "source": [
    "# Gauss-Seidel Method\n",
    "def gauss_seidel_method(A, b, tolerance=1e-4, max_iterations=1000):\n",
    "    n = len(b)\n",
    "    x = [0 for _ in range(n)]  # Initial guess, x_0 = 0\n",
    "    \n",
    "    for k in range(max_iterations):\n",
    "        x_old = x.copy()\n",
    "        \n",
    "        for i in range(n):\n",
    "            sigma = sum(A[i][j] * x[j] for j in range(n) if i != j)\n",
    "            x[i] = (b[i] - sigma) / A[i][i]\n",
    "        \n",
    "        # Check convergence\n",
    "        if all(abs(x[i] - x_old[i]) < tolerance for i in range(n)):\n",
    "            return x, k + 1  # Return the solution and number of iterations\n",
    "        \n",
    "    return x, max_iterations  "
   ]
  },
  {
   "cell_type": "code",
   "execution_count": 31,
   "id": "59f20765-76f4-4ace-8c53-dc3513a8ebd5",
   "metadata": {},
   "outputs": [],
   "source": [
    "A = [\n",
    "    [4, -1, 0, 0],\n",
    "    [-1, 4, -1, 0],\n",
    "    [0, -1, 4, -1],\n",
    "    [0, 0, -1, 3]\n",
    "]\n",
    "b = [15, 10, 10, 10]"
   ]
  },
  {
   "cell_type": "code",
   "execution_count": 32,
   "id": "ea0d000c-6fa4-4495-beb8-ef2802acc05d",
   "metadata": {},
   "outputs": [
    {
     "name": "stdout",
     "output_type": "stream",
     "text": [
      "Solution using Gaussian Elimination: [5.0, 5.0, 4.999999999999999, 4.999999999999999]\n",
      "Solution using Jacobi Method (Iterations: 14): [4.999980988652945, 4.99996860494993, 4.999964477048925, 4.999972732850935]\n",
      "Solution using Gauss-Seidel Method (Iterations: 9): [4.999995418812757, 4.999996714692547, 4.999998465336256, 4.999999488445419]\n",
      "Error of Jacobi method: [1.901134705484253e-05, 3.13950500698823e-05, 3.552295107400738e-05, 2.7267149063980867e-05]\n",
      "Error of Gauss-Seidel method: [4.58118724289136e-06, 3.285307452749464e-06, 1.5346637427526844e-06, 5.11554580029383e-07]\n"
     ]
    }
   ],
   "source": [
    "# Assuming gaussian_elimination is available in the imported lab2_gauss_method module\n",
    "from lab2_gauss_method import gaussian_elimination\n",
    "\n",
    "# Solve using Gaussian Elimination\n",
    "gaussian_solution = gaussian_elimination([row[:] for row in A], b[:])\n",
    "print(\"Solution using Gaussian Elimination:\", gaussian_solution)\n",
    "\n",
    "# Solve using Jacobi and Gauss-Seidel methods\n",
    "x_jacobi, iter_jacobi = jacobi_method(A, b)\n",
    "x_gauss_seidel, iter_gauss_seidel = gauss_seidel_method(A, b)\n",
    "\n",
    "print(f\"Solution using Jacobi Method (Iterations: {iter_jacobi}): {x_jacobi}\")\n",
    "print(f\"Solution using Gauss-Seidel Method (Iterations: {iter_gauss_seidel}): {x_gauss_seidel}\")\n",
    "\n",
    "# Calculate errors (absolute difference) compared to Gaussian Elimination\n",
    "error_jacobi = [abs(x_jacobi[i] - gaussian_solution[i]) for i in range(len(b))]\n",
    "error_gauss_seidel = [abs(x_gauss_seidel[i] - gaussian_solution[i]) for i in range(len(b))]\n",
    "\n",
    "print(f\"Error of Jacobi method: {error_jacobi}\")\n",
    "print(f\"Error of Gauss-Seidel method: {error_gauss_seidel}\")\n"
   ]
  },
  {
   "cell_type": "code",
   "execution_count": null,
   "id": "9d388a99-7802-43f3-a5fe-aeab4985cd4b",
   "metadata": {},
   "outputs": [],
   "source": []
  }
 ],
 "metadata": {
  "kernelspec": {
   "display_name": "Python 3 (ipykernel)",
   "language": "python",
   "name": "python3"
  },
  "language_info": {
   "codemirror_mode": {
    "name": "ipython",
    "version": 3
   },
   "file_extension": ".py",
   "mimetype": "text/x-python",
   "name": "python",
   "nbconvert_exporter": "python",
   "pygments_lexer": "ipython3",
   "version": "3.12.2"
  }
 },
 "nbformat": 4,
 "nbformat_minor": 5
}
